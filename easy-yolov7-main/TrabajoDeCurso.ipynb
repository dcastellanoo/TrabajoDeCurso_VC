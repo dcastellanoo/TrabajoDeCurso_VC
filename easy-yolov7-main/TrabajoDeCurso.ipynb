{
 "cells": [
  {
   "cell_type": "code",
   "execution_count": 1,
   "metadata": {},
   "outputs": [
    {
     "ename": "Exception",
     "evalue": "no CUDA installation found on this machine.",
     "output_type": "error",
     "traceback": [
      "\u001b[1;31m---------------------------------------------------------------------------\u001b[0m",
      "\u001b[1;31mException\u001b[0m                                 Traceback (most recent call last)",
      "Cell \u001b[1;32mIn[1], line 7\u001b[0m\n\u001b[0;32m      4\u001b[0m \u001b[39mimport\u001b[39;00m \u001b[39mcv2\u001b[39;00m\n\u001b[0;32m      6\u001b[0m yolov7 \u001b[39m=\u001b[39m YOLOv7()\n\u001b[1;32m----> 7\u001b[0m yolov7\u001b[39m.\u001b[39;49mload(\u001b[39m'\u001b[39;49m\u001b[39myolov7-e6e.pt\u001b[39;49m\u001b[39m'\u001b[39;49m, classes\u001b[39m=\u001b[39;49m\u001b[39m'\u001b[39;49m\u001b[39mcoco.yaml\u001b[39;49m\u001b[39m'\u001b[39;49m, device\u001b[39m=\u001b[39;49m\u001b[39m'\u001b[39;49m\u001b[39mgpu\u001b[39;49m\u001b[39m'\u001b[39;49m) \u001b[39m# use 'gpu' for CUDA GPU inference\u001b[39;00m\n\u001b[0;32m      9\u001b[0m video \u001b[39m=\u001b[39m cv2\u001b[39m.\u001b[39mVideoCapture(\u001b[39m'\u001b[39m\u001b[39m../traffic-video.mp4\u001b[39m\u001b[39m'\u001b[39m)\n\u001b[0;32m     11\u001b[0m \u001b[39mif\u001b[39;00m video\u001b[39m.\u001b[39misOpened() \u001b[39m==\u001b[39m \u001b[39mFalse\u001b[39;00m:\n",
      "File \u001b[1;32mc:\\Users\\Usuario\\Documents\\GitHub\\TrabajoDeCurso_VC\\easy-yolov7-main\\algorithm\\object_detector.py:27\u001b[0m, in \u001b[0;36mYOLOv7.load\u001b[1;34m(self, weights_path, classes, device)\u001b[0m\n\u001b[0;32m     25\u001b[0m \u001b[39mdef\u001b[39;00m \u001b[39mload\u001b[39m(\u001b[39mself\u001b[39m, weights_path, classes, device\u001b[39m=\u001b[39m\u001b[39m'\u001b[39m\u001b[39mcpu\u001b[39m\u001b[39m'\u001b[39m):\n\u001b[0;32m     26\u001b[0m     \u001b[39mwith\u001b[39;00m torch\u001b[39m.\u001b[39mno_grad():\n\u001b[1;32m---> 27\u001b[0m         \u001b[39mself\u001b[39m\u001b[39m.\u001b[39mdevice \u001b[39m=\u001b[39m select_device(device)\n\u001b[0;32m     28\u001b[0m         \u001b[39mself\u001b[39m\u001b[39m.\u001b[39mmodel \u001b[39m=\u001b[39m attempt_load(weights_path, device\u001b[39m=\u001b[39m\u001b[39mself\u001b[39m\u001b[39m.\u001b[39mdevice)\n\u001b[0;32m     30\u001b[0m         \u001b[39mif\u001b[39;00m device \u001b[39m!=\u001b[39m \u001b[39m'\u001b[39m\u001b[39mcpu\u001b[39m\u001b[39m'\u001b[39m:\n",
      "File \u001b[1;32mc:\\Users\\Usuario\\Documents\\GitHub\\TrabajoDeCurso_VC\\easy-yolov7-main\\utils\\torch_utils.py:11\u001b[0m, in \u001b[0;36mselect_device\u001b[1;34m(device, batch_size)\u001b[0m\n\u001b[0;32m      8\u001b[0m cpu \u001b[39m=\u001b[39m device\u001b[39m.\u001b[39mlower() \u001b[39m==\u001b[39m \u001b[39m'\u001b[39m\u001b[39mcpu\u001b[39m\u001b[39m'\u001b[39m\n\u001b[0;32m     10\u001b[0m \u001b[39mif\u001b[39;00m \u001b[39mnot\u001b[39;00m cpu \u001b[39mand\u001b[39;00m \u001b[39mnot\u001b[39;00m torch\u001b[39m.\u001b[39mcuda\u001b[39m.\u001b[39mis_available():\n\u001b[1;32m---> 11\u001b[0m     \u001b[39mraise\u001b[39;00m \u001b[39mException\u001b[39;00m(\u001b[39m'\u001b[39m\u001b[39mno CUDA installation found on this machine.\u001b[39m\u001b[39m'\u001b[39m)\n\u001b[0;32m     13\u001b[0m cuda \u001b[39m=\u001b[39m \u001b[39mnot\u001b[39;00m cpu \u001b[39mand\u001b[39;00m torch\u001b[39m.\u001b[39mcuda\u001b[39m.\u001b[39mis_available()\n\u001b[0;32m     15\u001b[0m \u001b[39mif\u001b[39;00m cuda:\n",
      "\u001b[1;31mException\u001b[0m: no CUDA installation found on this machine."
     ]
    }
   ],
   "source": [
    "from algorithm.object_detector import YOLOv7\n",
    "from utils.detections import draw\n",
    "import json\n",
    "import cv2\n",
    "import os\n",
    "\n",
    "os.environ['CUDA_HOME'] = '/usr/local/cuda'\n",
    "yolov7 = YOLOv7()\n",
    "yolov7.load('yolov7-e6e.pt', classes='coco.yaml', device='gpu') # use 'gpu' for CUDA GPU inference\n",
    "\n",
    "video = cv2.VideoCapture('../traffic-video.mp4')\n",
    "\n",
    "if video.isOpened() == False:\n",
    "    print('[!] error opening the video')\n",
    "\n",
    "\n",
    "while video.isOpened():\n",
    "    ret, frame = video.read()\n",
    "    if ret == True:\n",
    "        detections = yolov7.detect(frame)\n",
    "        detected_frame = draw(frame, detections)\n",
    "        print(json.dumps(detections, indent=4))\n",
    "        cv2.imshow('video', detected_frame)\n",
    "    k = cv2.waitKey(30)\n",
    "    if k == 27:\n",
    "        break\n",
    "    if ret == False:\n",
    "        break\n",
    "    \n",
    "video.release()\n",
    "print('[+] video closed')\n",
    "yolov7.unload()"
   ]
  }
 ],
 "metadata": {
  "kernelspec": {
   "display_name": "easy-yolov7",
   "language": "python",
   "name": "python3"
  },
  "language_info": {
   "codemirror_mode": {
    "name": "ipython",
    "version": 3
   },
   "file_extension": ".py",
   "mimetype": "text/x-python",
   "name": "python",
   "nbconvert_exporter": "python",
   "pygments_lexer": "ipython3",
   "version": "3.9.15 (main, Nov 24 2022, 14:39:17) [MSC v.1916 64 bit (AMD64)]"
  },
  "orig_nbformat": 4,
  "vscode": {
   "interpreter": {
    "hash": "56dba8d14e8523755cb3974973e4a96574c28f1ab4ac53baefee3ed3d52d4c8e"
   }
  }
 },
 "nbformat": 4,
 "nbformat_minor": 2
}
