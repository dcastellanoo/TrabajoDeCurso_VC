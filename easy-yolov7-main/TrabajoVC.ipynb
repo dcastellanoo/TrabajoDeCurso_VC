{
 "cells": [
  {
   "attachments": {},
   "cell_type": "markdown",
   "metadata": {},
   "source": [
    "### Paquetes necesarios"
   ]
  },
  {
   "cell_type": "code",
   "execution_count": 1,
   "metadata": {},
   "outputs": [],
   "source": [
    "from algorithm.object_detector import YOLOv7\n",
    "from utils.detections import draw\n",
    "import json\n",
    "import cv2\n",
    "import numpy as np\n",
    "from tqdm import tqdm"
   ]
  },
  {
   "attachments": {},
   "cell_type": "markdown",
   "metadata": {},
   "source": [
    "### Funciones auxiliares"
   ]
  },
  {
   "attachments": {},
   "cell_type": "markdown",
   "metadata": {},
   "source": [
    "##### Método para el filtrado de las detecciones y el cálculo del punto medio del objeto detectado. "
   ]
  },
  {
   "cell_type": "code",
   "execution_count": 2,
   "metadata": {},
   "outputs": [],
   "source": [
    "def filter_detections(detections, confidence):\n",
    "    filtered_detections = []\n",
    "    for object_detected in detections:\n",
    "        if object_detected['confidence'] > confidence:\n",
    "            object_detected['cx'] = object_detected['x'] + int(object_detected['width'] / 2)\n",
    "            object_detected['cy'] = object_detected['y'] + int(object_detected['height'] / 2)\n",
    "            filtered_detections.append(object_detected)\n",
    "    return filtered_detections"
   ]
  },
  {
   "attachments": {},
   "cell_type": "markdown",
   "metadata": {},
   "source": [
    "##### Método para comprobar la existencia del id de un objeto dentro de una lista"
   ]
  },
  {
   "cell_type": "code",
   "execution_count": 3,
   "metadata": {},
   "outputs": [],
   "source": [
    "def id_exist(list_ids, id):\n",
    "    for item in list_ids:\n",
    "        if id == item:\n",
    "            return True\n",
    "    return False"
   ]
  },
  {
   "attachments": {},
   "cell_type": "markdown",
   "metadata": {},
   "source": [
    "### Código principal"
   ]
  },
  {
   "cell_type": "code",
   "execution_count": 5,
   "metadata": {},
   "outputs": [
    {
     "name": "stderr",
     "output_type": "stream",
     "text": [
      "  0%|          | 33/9186 [00:10<48:58,  3.12 frames/s] "
     ]
    },
    {
     "name": "stdout",
     "output_type": "stream",
     "text": [
      "[+] video closed\n"
     ]
    },
    {
     "name": "stderr",
     "output_type": "stream",
     "text": [
      "\n"
     ]
    }
   ],
   "source": [
    "yolov7 = YOLOv7()\n",
    "\n",
    "#Cambien 'yolov7-e6e.pt' por 'coco.weights' para probar el modelo de easy-yolov7\n",
    "yolov7.load('yolov7-e6e.pt', classes='coco.yaml', device='cpu') # use 'gpu' for CUDA GPU inference\n",
    "confidence = 0.70\n",
    "\n",
    "video = cv2.VideoCapture('traffic-video-1080.mp4')\n",
    "\n",
    "width  = int(video.get(cv2.CAP_PROP_FRAME_WIDTH))\n",
    "height = int(video.get(cv2.CAP_PROP_FRAME_HEIGHT))\n",
    "fps = int(video.get(cv2.CAP_PROP_FPS))\n",
    "frames_count = int(video.get(cv2.CAP_PROP_FRAME_COUNT))\n",
    "fourcc = cv2.VideoWriter_fourcc('m', 'p', '4', 'v')\n",
    "output = cv2.VideoWriter('output-640-easy.mp4', fourcc, fps, (width, height))\n",
    "\n",
    "region_1 = [(387, 441), (758, 441), (698, 789), (159, 736)]\n",
    "region_2 = [(828, 385), (986, 377), (1069, 739), (830, 738)]\n",
    "region_3 = [(1618, 545), (1845, 620), (1699, 802), (1397, 704)]\n",
    "region_4 = [(206, 207), (417, 221), (350, 366), (96, 339)]\n",
    "\n",
    "if video.isOpened() == False:\n",
    "\tprint('[!] error opening the video')\n",
    "\n",
    "pbar = tqdm(total=frames_count, unit=' frames', dynamic_ncols=True, position=0, leave=True)\n",
    "\n",
    "list_id_cars = []\n",
    "list_id_trucks = []\n",
    "list_id_bus = []\n",
    "list_id_motorcycle = []\n",
    "list_id_persons = []\n",
    "\n",
    "try:\n",
    "    while video.isOpened():\n",
    "\n",
    "        ret, frame = video.read()\n",
    "\n",
    "        if not ret:\n",
    "          break\n",
    "\n",
    "        detections = yolov7.detect(frame, track=True)\n",
    "        detections = filter_detections(detections, confidence)\n",
    "        detected_frame = draw(frame, detections)\n",
    "\n",
    "        cv2.polylines(detected_frame, [np.array(region_1)], True, (255, 255, 255), 4)\n",
    "        cv2.polylines(detected_frame, [np.array(region_2)], True, (255, 255, 255), 4)\n",
    "        cv2.polylines(detected_frame, [np.array(region_3)], True, (255, 255, 255), 4)\n",
    "        cv2.polylines(detected_frame, [np.array(region_4)], True, (0, 0, 0), 4)\n",
    " \n",
    "        for box in detections:\n",
    "\n",
    "            cv2.circle(detected_frame, (box['cx'], box['cy']), 5, (0, 0, 255), -1)\n",
    "        \n",
    "            if box['class'] == \"car\":\n",
    "                inside1 = cv2.pointPolygonTest(np.array(region_1), (box['cx'], box['cy']), False)\n",
    "                inside2 = cv2.pointPolygonTest(np.array(region_2), (box['cx'], box['cy']), False)\n",
    "                inside3 = cv2.pointPolygonTest(np.array(region_3), (box['cx'], box['cy']), False)\n",
    "\n",
    "                if (inside1 > 0) or (inside2 > 0) or (inside3 > 0):\n",
    "                    if (id_exist(list_id_cars, box['id']) == False):\n",
    "                        list_id_cars.append(box['id'])\n",
    "\n",
    "            elif box['class'] == \"truck\":\n",
    "                inside1 = cv2.pointPolygonTest(np.array(region_1), (box['cx'], box['cy']), False)\n",
    "                inside2 = cv2.pointPolygonTest(np.array(region_2), (box['cx'], box['cy']), False)\n",
    "                inside3 = cv2.pointPolygonTest(np.array(region_3), (box['cx'], box['cy']), False)\n",
    "\n",
    "                if (inside1 > 0) or (inside2 > 0) or (inside3 > 0):\n",
    "                    if (id_exist(list_id_trucks, box['id']) == False):\n",
    "                        list_id_trucks.append(box['id'])\n",
    "\n",
    "            elif box['class'] == \"bus\":\n",
    "                inside1 = cv2.pointPolygonTest(np.array(region_1), (box['cx'], box['cy']), False)\n",
    "                inside2 = cv2.pointPolygonTest(np.array(region_2), (box['cx'], box['cy']), False)\n",
    "                inside3 = cv2.pointPolygonTest(np.array(region_3), (box['cx'], box['cy']), False)\n",
    "\n",
    "                if (inside1 > 0) or (inside2 > 0) or (inside3 > 0):\n",
    "                    if (id_exist(list_id_bus, box['id']) == False):\n",
    "                        list_id_bus.append(box['id'])\n",
    "\n",
    "            elif box['class'] == \"motorcycle\":\n",
    "                inside1 = cv2.pointPolygonTest(np.array(region_1), (box['cx'], box['cy']), False)\n",
    "                inside2 = cv2.pointPolygonTest(np.array(region_2), (box['cx'], box['cy']), False)\n",
    "                inside3 = cv2.pointPolygonTest(np.array(region_3), (box['cx'], box['cy']), False)\n",
    "\n",
    "                if (inside1 > 0) or (inside2 > 0) or (inside3 > 0):\n",
    "                    if (id_exist(list_id_motorcycle, box['id']) == False):\n",
    "                        list_id_motorcycle.append(box['id'])\n",
    "\n",
    "            elif box['class'] == \"person\":\n",
    "                inside4 = cv2.pointPolygonTest(np.array(region_4), (box['cx'], box['cy']), False)\n",
    "\n",
    "                if inside4 > 0:\n",
    "                    if (id_exist(list_id_persons, box['id']) == False):\n",
    "                        list_id_persons.append(box['id'])\n",
    "\n",
    "        car_count = len(list_id_cars)\n",
    "        truck_count = len(list_id_trucks)\n",
    "        bus_count = len(list_id_bus)\n",
    "        motorcycle_count = len(list_id_motorcycle)\n",
    "        person_count = len(list_id_persons)\n",
    "\n",
    "\n",
    "        cv2.rectangle(detected_frame, (1443,32), (1852, 242), (0, 0, 0), -1)\n",
    "        cv2.putText(detected_frame, \"Cars: \" + str(car_count), (1461, 64), cv2.FONT_HERSHEY_TRIPLEX, 1, (255, 255, 255), 1)\n",
    "        cv2.putText(detected_frame, \"Trucks: \" + str(truck_count), (1461, 104), cv2.FONT_HERSHEY_TRIPLEX, 1, (255, 255, 255), 1)\n",
    "        cv2.putText(detected_frame, \"Bus: \" + str(bus_count), (1461, 144), cv2.FONT_HERSHEY_TRIPLEX, 1, (255, 255, 255), 1)\n",
    "        cv2.putText(detected_frame, \"Motorcycles: \" + str(motorcycle_count), (1461, 184), cv2.FONT_HERSHEY_TRIPLEX, 1, (255, 255, 255), 1)\n",
    "        cv2.putText(detected_frame, \"Persons: \" + str(person_count), (1461, 224), cv2.FONT_HERSHEY_TRIPLEX, 1, (255, 255, 255), 1)\n",
    "\n",
    "        output.write(detected_frame)\n",
    "        pbar.update(1)\n",
    "        \n",
    "except KeyboardInterrupt:\n",
    "    pass\n",
    "    \n",
    "pbar.close()\n",
    "video.release()\n",
    "print('[+] video closed')\n",
    "output.release()\n",
    "yolov7.unload()"
   ]
  }
 ],
 "metadata": {
  "kernelspec": {
   "display_name": "easy-yolov7",
   "language": "python",
   "name": "python3"
  },
  "language_info": {
   "codemirror_mode": {
    "name": "ipython",
    "version": 3
   },
   "file_extension": ".py",
   "mimetype": "text/x-python",
   "name": "python",
   "nbconvert_exporter": "python",
   "pygments_lexer": "ipython3",
   "version": "3.9.15 (main, Nov 24 2022, 14:39:17) [MSC v.1916 64 bit (AMD64)]"
  },
  "orig_nbformat": 4,
  "vscode": {
   "interpreter": {
    "hash": "56dba8d14e8523755cb3974973e4a96574c28f1ab4ac53baefee3ed3d52d4c8e"
   }
  }
 },
 "nbformat": 4,
 "nbformat_minor": 2
}
